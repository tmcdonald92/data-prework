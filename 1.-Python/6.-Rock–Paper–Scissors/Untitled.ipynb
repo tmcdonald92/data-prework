{
 "cells": [
  {
   "cell_type": "code",
   "execution_count": 6,
   "metadata": {},
   "outputs": [
    {
     "name": "stdout",
     "output_type": "stream",
     "text": [
      "How many rounds do you want to play? 3\n",
      "The number of rounds you chose was  3\n",
      "Choose a gesture: rock\n",
      "Nice choice. Good luck!\n",
      "The computer chose:  paper\n",
      "The player chose:  rock\n",
      "The computer won!\n"
     ]
    },
    {
     "ename": "KeyboardInterrupt",
     "evalue": "",
     "output_type": "error",
     "traceback": [
      "\u001b[1;31m---------------------------------------------------------------------------\u001b[0m",
      "\u001b[1;31mKeyboardInterrupt\u001b[0m                         Traceback (most recent call last)",
      "\u001b[1;32m<ipython-input-6-8b82569e364b>\u001b[0m in \u001b[0;36m<module>\u001b[1;34m\u001b[0m\n\u001b[0;32m     42\u001b[0m \u001b[1;32mfor\u001b[0m \u001b[0mr\u001b[0m \u001b[1;32min\u001b[0m \u001b[0mrange\u001b[0m\u001b[1;33m(\u001b[0m\u001b[0mn_rounds\u001b[0m\u001b[1;33m)\u001b[0m\u001b[1;33m:\u001b[0m\u001b[1;33m\u001b[0m\u001b[1;33m\u001b[0m\u001b[0m\n\u001b[0;32m     43\u001b[0m \u001b[1;33m\u001b[0m\u001b[0m\n\u001b[1;32m---> 44\u001b[1;33m     \u001b[1;32mwhile\u001b[0m \u001b[1;33m(\u001b[0m\u001b[0mplayer_score\u001b[0m \u001b[1;33m<\u001b[0m \u001b[0mrounds_to_win\u001b[0m\u001b[1;33m)\u001b[0m \u001b[1;33m|\u001b[0m \u001b[1;33m(\u001b[0m\u001b[0mcpu_score\u001b[0m \u001b[1;33m<\u001b[0m \u001b[0mrounds_to_win\u001b[0m\u001b[1;33m)\u001b[0m\u001b[1;33m:\u001b[0m\u001b[1;33m\u001b[0m\u001b[1;33m\u001b[0m\u001b[0m\n\u001b[0m\u001b[0;32m     45\u001b[0m         \u001b[0mplayer_choice\u001b[0m\u001b[1;33m\u001b[0m\u001b[1;33m\u001b[0m\u001b[0m\n\u001b[0;32m     46\u001b[0m         \u001b[0mcomputer_choice\u001b[0m\u001b[1;33m\u001b[0m\u001b[1;33m\u001b[0m\u001b[0m\n",
      "\u001b[1;31mKeyboardInterrupt\u001b[0m: "
     ]
    }
   ],
   "source": [
    "import random\n",
    "gestures = ['rock','paper','scissors','lizard','spock']\n",
    "\n",
    "n_rounds = int(input(\"How many rounds do you want to play? \"))\n",
    "while n_rounds % 2 == 0:\n",
    "    print(\"The number of rounds must be odd. Insert a new number: \")\n",
    "    n_rounds = int(input(\"How many rounds do you want to play? \"))\n",
    "print(\"The number of rounds you chose was \", n_rounds)\n",
    "\n",
    "rounds_to_win = int(n_rounds / 2) + 1\n",
    "cpu_score = 0\n",
    "player_score = 0\n",
    "computer_choice = random.choice(gestures)\n",
    "\n",
    "player_choice = input(\"Choose a gesture: \")\n",
    "while player_choice not in gestures:\n",
    "    print(\"That gesture does not exist. Try again please.\")\n",
    "    player_choice = input(\"Choose a gesture: \")\n",
    "print(\"Nice choice. Good luck!\")\n",
    "\n",
    "result = 0\n",
    "\n",
    "if ((computer_choice == \"rock\") & (player_choice == \"paper\")) | ((computer_choice == \"paper\") & (player_choice == \"scissors\")) | ((computer_choice == \"scissors\") & (player_choice == \"rock\")) | ((computer_choice == \"scissors\") & (player_choice == \"spock\")) | ((computer_choice == \"paper\") & (player_choice == \"lizard\")) | ((computer_choice == \"rock\") & (player_choice == \"spock\")):\n",
    "    result = 2\n",
    "elif ((computer_choice == \"rock\") & (player_choice == \"scissors\")) | ((computer_choice == \"paper\") & (player_choice == \"rock\")) | ((computer_choice == \"scissors\") & (player_choice == \"paper\")) | ((computer_choice == \"scissors\") & (player_choice == \"lizard\")) | ((computer_choice == \"paper\") & (player_choice == \"spock\")) | ((computer_choice == \"rock\") & (player_choice == \"lizard\")):\n",
    "    result = 1\n",
    "else:\n",
    "    result = 0\n",
    "\n",
    "announcement = print(\"The computer chose: \", computer_choice)\n",
    "print(\"The player chose: \", player_choice)\n",
    "if result == 2:\n",
    "    print(\"The player won!\")\n",
    "    player_score += 1\n",
    "elif result == 1:\n",
    "    print(\"The computer won!\")\n",
    "    cpu_score += 1\n",
    "else:\n",
    "    print(\"It's a tie!\")\n",
    "\n",
    "for r in range(n_rounds):\n",
    "    \n",
    "    while (player_score < rounds_to_win) | (cpu_score < rounds_to_win):\n",
    "        player_choice\n",
    "        computer_choice\n",
    "        announcement\n",
    "\n",
    "if player_score > cpu_score:\n",
    "    print(\"The player won the game!\")\n",
    "elif player_score < cpu_score:\n",
    "    print(\"The computer won the game!\")\n",
    "else:\n",
    "    print(\"The game ends in a tie!\")"
   ]
  },
  {
   "cell_type": "code",
   "execution_count": null,
   "metadata": {},
   "outputs": [],
   "source": []
  },
  {
   "cell_type": "code",
   "execution_count": null,
   "metadata": {},
   "outputs": [],
   "source": []
  }
 ],
 "metadata": {
  "kernelspec": {
   "display_name": "Python 3",
   "language": "python",
   "name": "python3"
  },
  "language_info": {
   "codemirror_mode": {
    "name": "ipython",
    "version": 3
   },
   "file_extension": ".py",
   "mimetype": "text/x-python",
   "name": "python",
   "nbconvert_exporter": "python",
   "pygments_lexer": "ipython3",
   "version": "3.8.5"
  }
 },
 "nbformat": 4,
 "nbformat_minor": 4
}
